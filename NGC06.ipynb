{
 "cells": [
  {
   "cell_type": "markdown",
   "source": [
    "Pada tugas kali ini, kami akan melakukan perhitungan apakah \r\n",
    "$$\r\n",
    "\\mathbf{B}=\r\n",
    "\\begin{bmatrix}\r\n",
    "    1\\\\\\\\\r\n",
    "    3\r\n",
    "\\end{bmatrix}\r\n",
    "$$\r\n",
    "adalah eigenvector dari \r\n",
    "$$\r\n",
    "\\mathbf{A}=\r\n",
    "\\begin{bmatrix}\r\n",
    "    1 & -1\\\\\\\\\r\n",
    "    6 & 4\r\n",
    "\\end{bmatrix}\r\n",
    "$$ \r\n",
    "Jika iya, berapakah eigenvalue-nya?"
   ],
   "metadata": {}
  },
  {
   "cell_type": "markdown",
   "source": [
    "Kami akan melakukan perhitungan secara manual terlebih dahulu dengan melakukan perkalian terhadap matrix A ke B\r\n",
    "$$\r\n",
    "\\mathbf{AB}:$$ \r\n",
    "$$\r\n",
    "\\begin{bmatrix}\r\n",
    "    1 & -1\\\\\\\\\r\n",
    "    6 & 4\r\n",
    "\\end{bmatrix}\r\n",
    "\\begin{bmatrix}\r\n",
    "    1\\\\\\\\\r\n",
    "    3\r\n",
    "\\end{bmatrix}\r\n",
    "$$\r\n",
    "$$\r\n",
    "=\\begin{bmatrix}\r\n",
    "    (1*1)+(-1*3)\\\\\\\\\r\n",
    "    (6*1)+(4*3)\r\n",
    "\\end{bmatrix}\r\n",
    "$$\r\n",
    "$$\r\n",
    "=\\begin{bmatrix}\r\n",
    "    (1-3)\\\\\\\\\r\n",
    "    (6+12)\r\n",
    "\\end{bmatrix}=\r\n",
    "\\begin{bmatrix}\r\n",
    "    -2\\\\\\\\\r\n",
    "    18\r\n",
    "\\end{bmatrix}\r\n",
    "$$"
   ],
   "metadata": {}
  },
  {
   "cell_type": "markdown",
   "source": [
    "Dari hasil perkalian matrix diatas, didapatkan hasil matrix AB\r\n",
    "$$\r\n",
    "\\begin{bmatrix}\r\n",
    "    -2\\\\\\\\\r\n",
    "    18\r\n",
    "\\end{bmatrix}\r\n",
    "$$\r\n",
    "Dimana matrix AB tersebut memiliki arah yang berbeda dengan matrix B\r\n",
    "Sehingga dapat disimpulkan bahwa untuk Matrix B bukan merupakan eigenvector dari Matrix A"
   ],
   "metadata": {}
  },
  {
   "cell_type": "markdown",
   "source": [
    "Selanjutnya kita akan coba melakukan perhitungan pada python dan melakukan plotting pada python"
   ],
   "metadata": {}
  },
  {
   "cell_type": "code",
   "execution_count": 16,
   "source": [
    "#Berikut ini merupakan proses import dari library yang digunakan\r\n",
    "import numpy as np\r\n",
    "import matplotlib.pyplot as plt\r\n",
    "import seaborn as sns\r\n",
    "from numpy import array\r\n",
    "from numpy.linalg import eig"
   ],
   "outputs": [],
   "metadata": {}
  },
  {
   "cell_type": "code",
   "execution_count": 4,
   "source": [
    "# Plot style\r\n",
    "sns.set()\r\n",
    "%pylab inline\r\n",
    "pylab.rcParams['figure.figsize'] = (4, 4)\r\n",
    "# Avoid inaccurate floating values (for inverse matrices in dot product for instance)\r\n",
    "# See https://stackoverflow.com/questions/24537791/numpy-matrix-inversion-rounding-errors\r\n",
    "np.set_printoptions(suppress=True)"
   ],
   "outputs": [
    {
     "output_type": "stream",
     "name": "stdout",
     "text": [
      "Populating the interactive namespace from numpy and matplotlib\n"
     ]
    }
   ],
   "metadata": {}
  },
  {
   "cell_type": "code",
   "execution_count": 5,
   "source": [
    "#Berikut ini merupakan pendefinisian dari fungsi plotvector yang akan digunakan untuk plotting matrix\r\n",
    "def plotVectors(vecs, cols, alpha=1):\r\n",
    "    \"\"\"\r\n",
    "    Plot set of vectors.\r\n",
    "\r\n",
    "    Parameters\r\n",
    "    ----------\r\n",
    "    vecs : array-like\r\n",
    "        Coordinates of the vectors to plot. Each vectors is in an array. For\r\n",
    "        instance: [[1, 3], [2, 2]] can be used to plot 2 vectors.\r\n",
    "    cols : array-like\r\n",
    "        Colors of the vectors. For instance: ['red', 'blue'] will display the\r\n",
    "        first vector in red and the second in blue.\r\n",
    "    alpha : float\r\n",
    "        Opacity of vectors\r\n",
    "\r\n",
    "    Returns:\r\n",
    "\r\n",
    "    fig : instance of matplotlib.figure.Figure\r\n",
    "        The figure of the vectors\r\n",
    "    \"\"\"\r\n",
    "    plt.axvline(x=0, color='#A9A9A9', zorder=0)\r\n",
    "    plt.axhline(y=0, color='#A9A9A9', zorder=0)\r\n",
    "\r\n",
    "    for i in range(len(vecs)):\r\n",
    "        if (isinstance(alpha, list)):\r\n",
    "            alpha_i = alpha[i]\r\n",
    "        else:\r\n",
    "            alpha_i = alpha\r\n",
    "        x = np.concatenate([[0,0],vecs[i]])\r\n",
    "        plt.quiver([x[0]],\r\n",
    "                   [x[1]],\r\n",
    "                   [x[2]],\r\n",
    "                   [x[3]],\r\n",
    "                   angles='xy', scale_units='xy', scale=1, color=cols[i],\r\n",
    "                  alpha=alpha_i)"
   ],
   "outputs": [],
   "metadata": {}
  },
  {
   "cell_type": "code",
   "execution_count": 6,
   "source": [
    "#Berikut merupakan pendefinisian dari matrix A\r\n",
    "A = np.array([[1,-1],[6,4]])\r\n",
    "A"
   ],
   "outputs": [
    {
     "output_type": "execute_result",
     "data": {
      "text/plain": [
       "array([[ 1, -1],\n",
       "       [ 6,  4]])"
      ]
     },
     "metadata": {},
     "execution_count": 6
    }
   ],
   "metadata": {}
  },
  {
   "cell_type": "code",
   "execution_count": 7,
   "source": [
    "#Berikut merupakan pendefinisian dari matrix B\r\n",
    "B = np.array([[1],[3]])\r\n",
    "B"
   ],
   "outputs": [
    {
     "output_type": "execute_result",
     "data": {
      "text/plain": [
       "array([[1],\n",
       "       [3]])"
      ]
     },
     "metadata": {},
     "execution_count": 7
    }
   ],
   "metadata": {}
  },
  {
   "cell_type": "code",
   "execution_count": 15,
   "source": [
    "#Berikut merupakan perkalian dari matrix A terhadap matrix B\r\n",
    "A_B = A.dot(B)\r\n",
    "A_B"
   ],
   "outputs": [
    {
     "output_type": "execute_result",
     "data": {
      "text/plain": [
       "array([[-2],\n",
       "       [18]])"
      ]
     },
     "metadata": {},
     "execution_count": 15
    }
   ],
   "metadata": {}
  },
  {
   "cell_type": "code",
   "execution_count": 17,
   "source": [
    "#Berikut merupakan proses plotting dari matrix AB dan matrix B\r\n",
    "plotVectors([A_B.flatten(),B.flatten()], cols = ['#1190FF', '#FF9A13'])\r\n",
    "plt.ylim(-2,20)\r\n",
    "plt.xlim(-3,2)"
   ],
   "outputs": [
    {
     "output_type": "execute_result",
     "data": {
      "text/plain": [
       "(-3.0, 2.0)"
      ]
     },
     "metadata": {},
     "execution_count": 17
    },
    {
     "output_type": "display_data",
     "data": {
      "text/plain": [
       "<Figure size 288x288 with 1 Axes>"
      ],
      "image/png": "[encoded data removed]"
     },
     "metadata": {
      "needs_background": "light"
     }
    }
   ],
   "metadata": {}
  },
  {
   "cell_type": "markdown",
   "source": [
    "Dari hasil gambar plotting tersebut, terlihat bahwa matrix AB memiliki arah yang berbeda dengan matrix B\r\n",
    "Sehingga dapat disimpulkan bahwa untuk matrix B bukan merupakan eigenvector dari Matrix A"
   ],
   "metadata": {}
  }
 ],
 "metadata": {
  "orig_nbformat": 4,
  "language_info": {
   "name": "python",
   "version": "3.8.8",
   "mimetype": "text/x-python",
   "codemirror_mode": {
    "name": "ipython",
    "version": 3
   },
   "pygments_lexer": "ipython3",
   "nbconvert_exporter": "python",
   "file_extension": ".py"
  },
  "kernelspec": {
   "name": "python3",
   "display_name": "Python 3.8.8 64-bit ('base': conda)"
  },
  "interpreter": {
   "hash": "6f5a3333282cc3cade2967a8d6ad94d5be3d1b19105904835c796cab9a1eb63b"
  }
 },
 "nbformat": 4,
 "nbformat_minor": 2
}